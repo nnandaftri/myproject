{
 "cells": [
  {
   "cell_type": "markdown",
   "metadata": {},
   "source": [
    "# Causes Of Death In Indonesia"
   ]
  },
  {
   "cell_type": "markdown",
   "metadata": {},
   "source": [
    "Import library yang akan digunakan."
   ]
  },
  {
   "cell_type": "code",
   "execution_count": 219,
   "metadata": {},
   "outputs": [],
   "source": [
    "import pandas as pd\n",
    "import numpy as np\n",
    "import matplotlib.pyplot as plt"
   ]
  },
  {
   "cell_type": "markdown",
   "metadata": {},
   "source": [
    "### Menginput data yang akan digunakan"
   ]
  },
  {
   "cell_type": "code",
   "execution_count": 220,
   "metadata": {},
   "outputs": [],
   "source": [
    "data = pd.read_csv(\"Penyebab Kematian di Indonesia yang Dilaporkan - Raw.csv\")"
   ]
  },
  {
   "cell_type": "code",
   "execution_count": 221,
   "metadata": {},
   "outputs": [
    {
     "data": {
      "text/html": [
       "<div>\n",
       "<style scoped>\n",
       "    .dataframe tbody tr th:only-of-type {\n",
       "        vertical-align: middle;\n",
       "    }\n",
       "\n",
       "    .dataframe tbody tr th {\n",
       "        vertical-align: top;\n",
       "    }\n",
       "\n",
       "    .dataframe thead th {\n",
       "        text-align: right;\n",
       "    }\n",
       "</style>\n",
       "<table border=\"1\" class=\"dataframe\">\n",
       "  <thead>\n",
       "    <tr style=\"text-align: right;\">\n",
       "      <th></th>\n",
       "      <th>Cause</th>\n",
       "      <th>Type</th>\n",
       "      <th>Year</th>\n",
       "      <th>Data Redundancy</th>\n",
       "      <th>Total Deaths</th>\n",
       "      <th>Source</th>\n",
       "      <th>Page at Source</th>\n",
       "      <th>Source URL</th>\n",
       "    </tr>\n",
       "  </thead>\n",
       "  <tbody>\n",
       "    <tr>\n",
       "      <th>0</th>\n",
       "      <td>Abrasi Air Laut</td>\n",
       "      <td>Bencana Alam</td>\n",
       "      <td>2012</td>\n",
       "      <td>1</td>\n",
       "      <td>0</td>\n",
       "      <td>Profil Kesehatan Indonesia Tahun 2012</td>\n",
       "      <td>Lampiran 3.38</td>\n",
       "      <td>https://pusdatin.kemkes.go.id/download.php?fil...</td>\n",
       "    </tr>\n",
       "    <tr>\n",
       "      <th>1</th>\n",
       "      <td>AIDS</td>\n",
       "      <td>Bencana Non Alam dan Penyakit</td>\n",
       "      <td>2000</td>\n",
       "      <td>1</td>\n",
       "      <td>47</td>\n",
       "      <td>Profil Kesehatan Indonesia Tahun 2004</td>\n",
       "      <td>78</td>\n",
       "      <td>https://pusdatin.kemkes.go.id/download.php?fil...</td>\n",
       "    </tr>\n",
       "    <tr>\n",
       "      <th>2</th>\n",
       "      <td>AIDS</td>\n",
       "      <td>Bencana Non Alam dan Penyakit</td>\n",
       "      <td>2001</td>\n",
       "      <td>1</td>\n",
       "      <td>99</td>\n",
       "      <td>Profil Kesehatan Indonesia Tahun 2004</td>\n",
       "      <td>78</td>\n",
       "      <td>https://pusdatin.kemkes.go.id/download.php?fil...</td>\n",
       "    </tr>\n",
       "    <tr>\n",
       "      <th>3</th>\n",
       "      <td>AIDS</td>\n",
       "      <td>Bencana Non Alam dan Penyakit</td>\n",
       "      <td>2002</td>\n",
       "      <td>1</td>\n",
       "      <td>100</td>\n",
       "      <td>Profil Kesehatan Indonesia Tahun 2004</td>\n",
       "      <td>78</td>\n",
       "      <td>https://pusdatin.kemkes.go.id/download.php?fil...</td>\n",
       "    </tr>\n",
       "    <tr>\n",
       "      <th>4</th>\n",
       "      <td>AIDS</td>\n",
       "      <td>Bencana Non Alam dan Penyakit</td>\n",
       "      <td>2003</td>\n",
       "      <td>5</td>\n",
       "      <td>261</td>\n",
       "      <td>Profil Kesehatan Indonesia Tahun 2004</td>\n",
       "      <td>78</td>\n",
       "      <td>https://pusdatin.kemkes.go.id/download.php?fil...</td>\n",
       "    </tr>\n",
       "  </tbody>\n",
       "</table>\n",
       "</div>"
      ],
      "text/plain": [
       "             Cause                           Type  Year  Data Redundancy  \\\n",
       "0  Abrasi Air Laut                   Bencana Alam  2012                1   \n",
       "1             AIDS  Bencana Non Alam dan Penyakit  2000                1   \n",
       "2             AIDS  Bencana Non Alam dan Penyakit  2001                1   \n",
       "3             AIDS  Bencana Non Alam dan Penyakit  2002                1   \n",
       "4             AIDS  Bencana Non Alam dan Penyakit  2003                5   \n",
       "\n",
       "   Total Deaths                                 Source Page at Source  \\\n",
       "0             0  Profil Kesehatan Indonesia Tahun 2012  Lampiran 3.38   \n",
       "1            47  Profil Kesehatan Indonesia Tahun 2004             78   \n",
       "2            99  Profil Kesehatan Indonesia Tahun 2004             78   \n",
       "3           100  Profil Kesehatan Indonesia Tahun 2004             78   \n",
       "4           261  Profil Kesehatan Indonesia Tahun 2004             78   \n",
       "\n",
       "                                          Source URL  \n",
       "0  https://pusdatin.kemkes.go.id/download.php?fil...  \n",
       "1  https://pusdatin.kemkes.go.id/download.php?fil...  \n",
       "2  https://pusdatin.kemkes.go.id/download.php?fil...  \n",
       "3  https://pusdatin.kemkes.go.id/download.php?fil...  \n",
       "4  https://pusdatin.kemkes.go.id/download.php?fil...  "
      ]
     },
     "execution_count": 221,
     "metadata": {},
     "output_type": "execute_result"
    }
   ],
   "source": [
    "data.head()"
   ]
  },
  {
   "cell_type": "code",
   "execution_count": 222,
   "metadata": {},
   "outputs": [
    {
     "name": "stdout",
     "output_type": "stream",
     "text": [
      "<class 'pandas.core.frame.DataFrame'>\n",
      "RangeIndex: 1062 entries, 0 to 1061\n",
      "Data columns (total 8 columns):\n",
      " #   Column           Non-Null Count  Dtype \n",
      "---  ------           --------------  ----- \n",
      " 0   Cause            1062 non-null   object\n",
      " 1   Type             1062 non-null   object\n",
      " 2   Year             1062 non-null   int64 \n",
      " 3   Data Redundancy  1062 non-null   int64 \n",
      " 4   Total Deaths     1062 non-null   int64 \n",
      " 5   Source           1062 non-null   object\n",
      " 6   Page at Source   1060 non-null   object\n",
      " 7   Source URL       1060 non-null   object\n",
      "dtypes: int64(3), object(5)\n",
      "memory usage: 66.5+ KB\n"
     ]
    }
   ],
   "source": [
    "data.info()"
   ]
  },
  {
   "cell_type": "markdown",
   "metadata": {},
   "source": [
    "### Handling Missing Values"
   ]
  },
  {
   "cell_type": "code",
   "execution_count": 223,
   "metadata": {},
   "outputs": [
    {
     "data": {
      "text/plain": [
       "Cause              0\n",
       "Type               0\n",
       "Year               0\n",
       "Data Redundancy    0\n",
       "Total Deaths       0\n",
       "Source             0\n",
       "Page at Source     2\n",
       "Source URL         2\n",
       "dtype: int64"
      ]
     },
     "execution_count": 223,
     "metadata": {},
     "output_type": "execute_result"
    }
   ],
   "source": [
    "data.isnull().sum()"
   ]
  },
  {
   "cell_type": "code",
   "execution_count": 224,
   "metadata": {},
   "outputs": [
    {
     "data": {
      "text/html": [
       "<div>\n",
       "<style scoped>\n",
       "    .dataframe tbody tr th:only-of-type {\n",
       "        vertical-align: middle;\n",
       "    }\n",
       "\n",
       "    .dataframe tbody tr th {\n",
       "        vertical-align: top;\n",
       "    }\n",
       "\n",
       "    .dataframe thead th {\n",
       "        text-align: right;\n",
       "    }\n",
       "</style>\n",
       "<table border=\"1\" class=\"dataframe\">\n",
       "  <thead>\n",
       "    <tr style=\"text-align: right;\">\n",
       "      <th></th>\n",
       "      <th>Cause</th>\n",
       "      <th>Type</th>\n",
       "      <th>Year</th>\n",
       "      <th>Data Redundancy</th>\n",
       "      <th>Total Deaths</th>\n",
       "      <th>Source</th>\n",
       "      <th>Page at Source</th>\n",
       "      <th>Source URL</th>\n",
       "    </tr>\n",
       "  </thead>\n",
       "  <tbody>\n",
       "    <tr>\n",
       "      <th>323</th>\n",
       "      <td>COVID-19</td>\n",
       "      <td>Bencana Non Alam dan Penyakit</td>\n",
       "      <td>2021</td>\n",
       "      <td>1</td>\n",
       "      <td>121956</td>\n",
       "      <td>COVID19.go.id</td>\n",
       "      <td>NaN</td>\n",
       "      <td>NaN</td>\n",
       "    </tr>\n",
       "    <tr>\n",
       "      <th>324</th>\n",
       "      <td>COVID-19</td>\n",
       "      <td>Bencana Non Alam dan Penyakit</td>\n",
       "      <td>2022</td>\n",
       "      <td>1</td>\n",
       "      <td>12876</td>\n",
       "      <td>COVID19.go.id</td>\n",
       "      <td>NaN</td>\n",
       "      <td>NaN</td>\n",
       "    </tr>\n",
       "  </tbody>\n",
       "</table>\n",
       "</div>"
      ],
      "text/plain": [
       "        Cause                           Type  Year  Data Redundancy  \\\n",
       "323  COVID-19  Bencana Non Alam dan Penyakit  2021                1   \n",
       "324  COVID-19  Bencana Non Alam dan Penyakit  2022                1   \n",
       "\n",
       "     Total Deaths         Source Page at Source Source URL  \n",
       "323        121956  COVID19.go.id            NaN        NaN  \n",
       "324         12876  COVID19.go.id            NaN        NaN  "
      ]
     },
     "execution_count": 224,
     "metadata": {},
     "output_type": "execute_result"
    }
   ],
   "source": [
    "data[data.isna().any(axis=1)]"
   ]
  },
  {
   "cell_type": "markdown",
   "metadata": {},
   "source": [
    "Mengganti nilai NaN dengan \"Unknown\""
   ]
  },
  {
   "cell_type": "code",
   "execution_count": 225,
   "metadata": {},
   "outputs": [],
   "source": [
    "data['Page at Source'] = data['Page at Source'].fillna('Unknown')\n",
    "data['Source URL'] = data['Source URL'].fillna('Unknown')"
   ]
  },
  {
   "cell_type": "code",
   "execution_count": 226,
   "metadata": {},
   "outputs": [
    {
     "data": {
      "text/plain": [
       "Cause              0\n",
       "Type               0\n",
       "Year               0\n",
       "Data Redundancy    0\n",
       "Total Deaths       0\n",
       "Source             0\n",
       "Page at Source     0\n",
       "Source URL         0\n",
       "dtype: int64"
      ]
     },
     "execution_count": 226,
     "metadata": {},
     "output_type": "execute_result"
    }
   ],
   "source": [
    "data.isnull().sum()"
   ]
  },
  {
   "cell_type": "markdown",
   "metadata": {},
   "source": [
    "### Mengecek Duplikat"
   ]
  },
  {
   "cell_type": "markdown",
   "metadata": {},
   "source": [
    "Data Redundancy yang bernilai lebih dari 1 mengacu adanya keberadaan data yang duplikat. Untuk row data yang memiliki data redudancy yang lebih dari 1, dipilih data dari laporan tahun terakhir, dengan asumsi bahwa laporan tahun terakhir merupakan update/perbaikan terbaru dari data tahun yang lalu. Untuk row data yang memiliki data redudancy yang lebih dari 1 di tahun yang sama, dipilih data yang memiliki jumlah total paling besar."
   ]
  },
  {
   "cell_type": "code",
   "execution_count": 227,
   "metadata": {},
   "outputs": [
    {
     "data": {
      "text/html": [
       "<div>\n",
       "<style scoped>\n",
       "    .dataframe tbody tr th:only-of-type {\n",
       "        vertical-align: middle;\n",
       "    }\n",
       "\n",
       "    .dataframe tbody tr th {\n",
       "        vertical-align: top;\n",
       "    }\n",
       "\n",
       "    .dataframe thead th {\n",
       "        text-align: right;\n",
       "    }\n",
       "</style>\n",
       "<table border=\"1\" class=\"dataframe\">\n",
       "  <thead>\n",
       "    <tr style=\"text-align: right;\">\n",
       "      <th></th>\n",
       "      <th>Cause</th>\n",
       "      <th>Type</th>\n",
       "      <th>Year</th>\n",
       "      <th>Data Redundancy</th>\n",
       "      <th>Total Deaths</th>\n",
       "      <th>Source</th>\n",
       "      <th>Page at Source</th>\n",
       "      <th>Source URL</th>\n",
       "    </tr>\n",
       "  </thead>\n",
       "  <tbody>\n",
       "    <tr>\n",
       "      <th>4</th>\n",
       "      <td>AIDS</td>\n",
       "      <td>Bencana Non Alam dan Penyakit</td>\n",
       "      <td>2003</td>\n",
       "      <td>5</td>\n",
       "      <td>261</td>\n",
       "      <td>Profil Kesehatan Indonesia Tahun 2004</td>\n",
       "      <td>78</td>\n",
       "      <td>https://pusdatin.kemkes.go.id/download.php?fil...</td>\n",
       "    </tr>\n",
       "    <tr>\n",
       "      <th>5</th>\n",
       "      <td>AIDS</td>\n",
       "      <td>Bencana Non Alam dan Penyakit</td>\n",
       "      <td>2003</td>\n",
       "      <td>5</td>\n",
       "      <td>261</td>\n",
       "      <td>Profil Kesehatan Indonesia Tahun 2007</td>\n",
       "      <td>84</td>\n",
       "      <td>https://pusdatin.kemkes.go.id/download.php?fil...</td>\n",
       "    </tr>\n",
       "    <tr>\n",
       "      <th>6</th>\n",
       "      <td>AIDS</td>\n",
       "      <td>Bencana Non Alam dan Penyakit</td>\n",
       "      <td>2003</td>\n",
       "      <td>5</td>\n",
       "      <td>261</td>\n",
       "      <td>Profil Kesehatan Indonesia Tahun 2008</td>\n",
       "      <td>102</td>\n",
       "      <td>https://pusdatin.kemkes.go.id/download.php?fil...</td>\n",
       "    </tr>\n",
       "    <tr>\n",
       "      <th>7</th>\n",
       "      <td>AIDS</td>\n",
       "      <td>Bencana Non Alam dan Penyakit</td>\n",
       "      <td>2003</td>\n",
       "      <td>5</td>\n",
       "      <td>261</td>\n",
       "      <td>Profil Kesehatan Indonesia Tahun 2009</td>\n",
       "      <td>95</td>\n",
       "      <td>https://pusdatin.kemkes.go.id/download.php?fil...</td>\n",
       "    </tr>\n",
       "    <tr>\n",
       "      <th>8</th>\n",
       "      <td>AIDS</td>\n",
       "      <td>Bencana Non Alam dan Penyakit</td>\n",
       "      <td>2003</td>\n",
       "      <td>5</td>\n",
       "      <td>261</td>\n",
       "      <td>Profil Kesehatan Indonesia Tahun 2010</td>\n",
       "      <td>115</td>\n",
       "      <td>https://pusdatin.kemkes.go.id/download.php?fil...</td>\n",
       "    </tr>\n",
       "    <tr>\n",
       "      <th>...</th>\n",
       "      <td>...</td>\n",
       "      <td>...</td>\n",
       "      <td>...</td>\n",
       "      <td>...</td>\n",
       "      <td>...</td>\n",
       "      <td>...</td>\n",
       "      <td>...</td>\n",
       "      <td>...</td>\n",
       "    </tr>\n",
       "    <tr>\n",
       "      <th>1026</th>\n",
       "      <td>Tetanus Neonatorium</td>\n",
       "      <td>Bencana Non Alam dan Penyakit</td>\n",
       "      <td>2005</td>\n",
       "      <td>2</td>\n",
       "      <td>82</td>\n",
       "      <td>Profil Kesehatan Indonesia Tahun 2005</td>\n",
       "      <td>Lampiran 3.16</td>\n",
       "      <td>https://pusdatin.kemkes.go.id/download.php?fil...</td>\n",
       "    </tr>\n",
       "    <tr>\n",
       "      <th>1027</th>\n",
       "      <td>Tetanus Neonatorium</td>\n",
       "      <td>Bencana Non Alam dan Penyakit</td>\n",
       "      <td>2006</td>\n",
       "      <td>2</td>\n",
       "      <td>37</td>\n",
       "      <td>Profil Kesehatan Indonesia Tahun 2006</td>\n",
       "      <td>21</td>\n",
       "      <td>https://pusdatin.kemkes.go.id/download.php?fil...</td>\n",
       "    </tr>\n",
       "    <tr>\n",
       "      <th>1028</th>\n",
       "      <td>Tetanus Neonatorium</td>\n",
       "      <td>Bencana Non Alam dan Penyakit</td>\n",
       "      <td>2006</td>\n",
       "      <td>2</td>\n",
       "      <td>46</td>\n",
       "      <td>Profil Kesehatan Indonesia Tahun 2006</td>\n",
       "      <td>40</td>\n",
       "      <td>https://pusdatin.kemkes.go.id/download.php?fil...</td>\n",
       "    </tr>\n",
       "    <tr>\n",
       "      <th>1043</th>\n",
       "      <td>Tetanus Neonatorium</td>\n",
       "      <td>Bencana Non Alam dan Penyakit</td>\n",
       "      <td>2021</td>\n",
       "      <td>2</td>\n",
       "      <td>9</td>\n",
       "      <td>Profil Kesehatan Indonesia Tahun 2021</td>\n",
       "      <td>Lampiran 62.a</td>\n",
       "      <td>https://www.kemkes.go.id/downloads/resources/d...</td>\n",
       "    </tr>\n",
       "    <tr>\n",
       "      <th>1044</th>\n",
       "      <td>Tetanus Neonatorium</td>\n",
       "      <td>Bencana Non Alam dan Penyakit</td>\n",
       "      <td>2021</td>\n",
       "      <td>2</td>\n",
       "      <td>9</td>\n",
       "      <td>Profil Kesehatan Indonesia Tahun 2021</td>\n",
       "      <td>Lampiran 62.b</td>\n",
       "      <td>https://www.kemkes.go.id/downloads/resources/d...</td>\n",
       "    </tr>\n",
       "  </tbody>\n",
       "</table>\n",
       "<p>529 rows × 8 columns</p>\n",
       "</div>"
      ],
      "text/plain": [
       "                    Cause                           Type  Year  \\\n",
       "4                    AIDS  Bencana Non Alam dan Penyakit  2003   \n",
       "5                    AIDS  Bencana Non Alam dan Penyakit  2003   \n",
       "6                    AIDS  Bencana Non Alam dan Penyakit  2003   \n",
       "7                    AIDS  Bencana Non Alam dan Penyakit  2003   \n",
       "8                    AIDS  Bencana Non Alam dan Penyakit  2003   \n",
       "...                   ...                            ...   ...   \n",
       "1026  Tetanus Neonatorium  Bencana Non Alam dan Penyakit  2005   \n",
       "1027  Tetanus Neonatorium  Bencana Non Alam dan Penyakit  2006   \n",
       "1028  Tetanus Neonatorium  Bencana Non Alam dan Penyakit  2006   \n",
       "1043  Tetanus Neonatorium  Bencana Non Alam dan Penyakit  2021   \n",
       "1044  Tetanus Neonatorium  Bencana Non Alam dan Penyakit  2021   \n",
       "\n",
       "      Data Redundancy  Total Deaths                                 Source  \\\n",
       "4                   5           261  Profil Kesehatan Indonesia Tahun 2004   \n",
       "5                   5           261  Profil Kesehatan Indonesia Tahun 2007   \n",
       "6                   5           261  Profil Kesehatan Indonesia Tahun 2008   \n",
       "7                   5           261  Profil Kesehatan Indonesia Tahun 2009   \n",
       "8                   5           261  Profil Kesehatan Indonesia Tahun 2010   \n",
       "...               ...           ...                                    ...   \n",
       "1026                2            82  Profil Kesehatan Indonesia Tahun 2005   \n",
       "1027                2            37  Profil Kesehatan Indonesia Tahun 2006   \n",
       "1028                2            46  Profil Kesehatan Indonesia Tahun 2006   \n",
       "1043                2             9  Profil Kesehatan Indonesia Tahun 2021   \n",
       "1044                2             9  Profil Kesehatan Indonesia Tahun 2021   \n",
       "\n",
       "     Page at Source                                         Source URL  \n",
       "4                78  https://pusdatin.kemkes.go.id/download.php?fil...  \n",
       "5                84  https://pusdatin.kemkes.go.id/download.php?fil...  \n",
       "6               102  https://pusdatin.kemkes.go.id/download.php?fil...  \n",
       "7                95  https://pusdatin.kemkes.go.id/download.php?fil...  \n",
       "8               115  https://pusdatin.kemkes.go.id/download.php?fil...  \n",
       "...             ...                                                ...  \n",
       "1026  Lampiran 3.16  https://pusdatin.kemkes.go.id/download.php?fil...  \n",
       "1027             21  https://pusdatin.kemkes.go.id/download.php?fil...  \n",
       "1028             40  https://pusdatin.kemkes.go.id/download.php?fil...  \n",
       "1043  Lampiran 62.a  https://www.kemkes.go.id/downloads/resources/d...  \n",
       "1044  Lampiran 62.b  https://www.kemkes.go.id/downloads/resources/d...  \n",
       "\n",
       "[529 rows x 8 columns]"
      ]
     },
     "execution_count": 227,
     "metadata": {},
     "output_type": "execute_result"
    }
   ],
   "source": [
    "data[data.duplicated(['Cause', 'Year'], keep=False)]"
   ]
  },
  {
   "cell_type": "code",
   "execution_count": 232,
   "metadata": {},
   "outputs": [],
   "source": [
    "data.drop_duplicates(['Cause', 'Type', 'Year'], keep='last', inplace=True)"
   ]
  },
  {
   "cell_type": "markdown",
   "metadata": {},
   "source": [
    "### Menghapus kolom yang tidak digunakan pada analisis ini"
   ]
  },
  {
   "cell_type": "code",
   "execution_count": 229,
   "metadata": {},
   "outputs": [],
   "source": [
    "data.drop(['Data Redundancy', 'Page at Source', 'Source URL'], axis=1, inplace=True)"
   ]
  },
  {
   "cell_type": "code",
   "execution_count": 230,
   "metadata": {},
   "outputs": [
    {
     "data": {
      "text/html": [
       "<div>\n",
       "<style scoped>\n",
       "    .dataframe tbody tr th:only-of-type {\n",
       "        vertical-align: middle;\n",
       "    }\n",
       "\n",
       "    .dataframe tbody tr th {\n",
       "        vertical-align: top;\n",
       "    }\n",
       "\n",
       "    .dataframe thead th {\n",
       "        text-align: right;\n",
       "    }\n",
       "</style>\n",
       "<table border=\"1\" class=\"dataframe\">\n",
       "  <thead>\n",
       "    <tr style=\"text-align: right;\">\n",
       "      <th></th>\n",
       "      <th>Cause</th>\n",
       "      <th>Type</th>\n",
       "      <th>Year</th>\n",
       "      <th>Total Deaths</th>\n",
       "      <th>Source</th>\n",
       "    </tr>\n",
       "  </thead>\n",
       "  <tbody>\n",
       "    <tr>\n",
       "      <th>0</th>\n",
       "      <td>Abrasi Air Laut</td>\n",
       "      <td>Bencana Alam</td>\n",
       "      <td>2012</td>\n",
       "      <td>0</td>\n",
       "      <td>Profil Kesehatan Indonesia Tahun 2012</td>\n",
       "    </tr>\n",
       "    <tr>\n",
       "      <th>1</th>\n",
       "      <td>AIDS</td>\n",
       "      <td>Bencana Non Alam dan Penyakit</td>\n",
       "      <td>2000</td>\n",
       "      <td>47</td>\n",
       "      <td>Profil Kesehatan Indonesia Tahun 2004</td>\n",
       "    </tr>\n",
       "    <tr>\n",
       "      <th>2</th>\n",
       "      <td>AIDS</td>\n",
       "      <td>Bencana Non Alam dan Penyakit</td>\n",
       "      <td>2001</td>\n",
       "      <td>99</td>\n",
       "      <td>Profil Kesehatan Indonesia Tahun 2004</td>\n",
       "    </tr>\n",
       "    <tr>\n",
       "      <th>3</th>\n",
       "      <td>AIDS</td>\n",
       "      <td>Bencana Non Alam dan Penyakit</td>\n",
       "      <td>2002</td>\n",
       "      <td>100</td>\n",
       "      <td>Profil Kesehatan Indonesia Tahun 2004</td>\n",
       "    </tr>\n",
       "    <tr>\n",
       "      <th>8</th>\n",
       "      <td>AIDS</td>\n",
       "      <td>Bencana Non Alam dan Penyakit</td>\n",
       "      <td>2003</td>\n",
       "      <td>261</td>\n",
       "      <td>Profil Kesehatan Indonesia Tahun 2010</td>\n",
       "    </tr>\n",
       "  </tbody>\n",
       "</table>\n",
       "</div>"
      ],
      "text/plain": [
       "             Cause                           Type  Year  Total Deaths  \\\n",
       "0  Abrasi Air Laut                   Bencana Alam  2012             0   \n",
       "1             AIDS  Bencana Non Alam dan Penyakit  2000            47   \n",
       "2             AIDS  Bencana Non Alam dan Penyakit  2001            99   \n",
       "3             AIDS  Bencana Non Alam dan Penyakit  2002           100   \n",
       "8             AIDS  Bencana Non Alam dan Penyakit  2003           261   \n",
       "\n",
       "                                  Source  \n",
       "0  Profil Kesehatan Indonesia Tahun 2012  \n",
       "1  Profil Kesehatan Indonesia Tahun 2004  \n",
       "2  Profil Kesehatan Indonesia Tahun 2004  \n",
       "3  Profil Kesehatan Indonesia Tahun 2004  \n",
       "8  Profil Kesehatan Indonesia Tahun 2010  "
      ]
     },
     "execution_count": 230,
     "metadata": {},
     "output_type": "execute_result"
    }
   ],
   "source": [
    "data.head()"
   ]
  },
  {
   "cell_type": "code",
   "execution_count": 233,
   "metadata": {},
   "outputs": [
    {
     "data": {
      "text/plain": [
       "<bound method NDFrame.describe of                          Cause                           Type  Year  \\\n",
       "0              Abrasi Air Laut                   Bencana Alam  2012   \n",
       "1                         AIDS  Bencana Non Alam dan Penyakit  2000   \n",
       "2                         AIDS  Bencana Non Alam dan Penyakit  2001   \n",
       "3                         AIDS  Bencana Non Alam dan Penyakit  2002   \n",
       "8                         AIDS  Bencana Non Alam dan Penyakit  2003   \n",
       "...                        ...                            ...   ...   \n",
       "1057  Wabah Penyakit (Epidemi)  Bencana Non Alam dan Penyakit  2016   \n",
       "1058  Wabah Penyakit (Epidemi)  Bencana Non Alam dan Penyakit  2017   \n",
       "1059  Wabah Penyakit (Epidemi)  Bencana Non Alam dan Penyakit  2019   \n",
       "1060  Wabah Penyakit (Epidemi)  Bencana Non Alam dan Penyakit  2020   \n",
       "1061  Wabah Penyakit (Epidemi)  Bencana Non Alam dan Penyakit  2021   \n",
       "\n",
       "      Total Deaths                                 Source  \n",
       "0                0  Profil Kesehatan Indonesia Tahun 2012  \n",
       "1               47  Profil Kesehatan Indonesia Tahun 2004  \n",
       "2               99  Profil Kesehatan Indonesia Tahun 2004  \n",
       "3              100  Profil Kesehatan Indonesia Tahun 2004  \n",
       "8              261  Profil Kesehatan Indonesia Tahun 2010  \n",
       "...            ...                                    ...  \n",
       "1057             0  Profil Kesehatan Indonesia Tahun 2016  \n",
       "1058             0  Profil Kesehatan Indonesia Tahun 2017  \n",
       "1059             0  Profil Kesehatan Indonesia Tahun 2019  \n",
       "1060             0  Profil Kesehatan Indonesia Tahun 2020  \n",
       "1061             0  Profil Kesehatan Indonesia Tahun 2021  \n",
       "\n",
       "[682 rows x 5 columns]>"
      ]
     },
     "execution_count": 233,
     "metadata": {},
     "output_type": "execute_result"
    }
   ],
   "source": [
    "data.describe"
   ]
  },
  {
   "cell_type": "code",
   "execution_count": 234,
   "metadata": {},
   "outputs": [
    {
     "data": {
      "text/plain": [
       "Cause\n",
       "AIDS                           7385\n",
       "Abrasi Air Laut                   0\n",
       "Aksi Teror dan Sabotase          42\n",
       "Angin Puting Beliung            100\n",
       "Angin Siklon Tropis              37\n",
       "                              ...  \n",
       "Tsunami Aceh (Meninggal)     129171\n",
       "Tuberkulosis                  39315\n",
       "Tuberkulosis paru              3852\n",
       "Tuberkulosis paru lainnya      2024\n",
       "Wabah Penyakit (Epidemi)          0\n",
       "Name: Total Deaths, Length: 181, dtype: int64"
      ]
     },
     "execution_count": 234,
     "metadata": {},
     "output_type": "execute_result"
    }
   ],
   "source": [
    "data.groupby('Cause')['Total Deaths'].sum()"
   ]
  },
  {
   "cell_type": "code",
   "execution_count": null,
   "metadata": {},
   "outputs": [],
   "source": []
  },
  {
   "cell_type": "markdown",
   "metadata": {},
   "source": [
    "### Mengelompokkan tipe bencana"
   ]
  },
  {
   "cell_type": "code",
   "execution_count": 242,
   "metadata": {},
   "outputs": [
    {
     "data": {
      "text/plain": [
       "Type\n",
       "Bencana Alam                     185290\n",
       "Bencana Non Alam dan Penyakit    777401\n",
       "Bencana Sosial                      261\n",
       "Name: Total Deaths, dtype: int64"
      ]
     },
     "execution_count": 242,
     "metadata": {},
     "output_type": "execute_result"
    }
   ],
   "source": [
    "type_groupings = data.groupby('Type')['Total Deaths'].sum()\n",
    "type_groupings"
   ]
  },
  {
   "cell_type": "code",
   "execution_count": 257,
   "metadata": {},
   "outputs": [
    {
     "data": {
      "text/plain": [
       "([<matplotlib.patches.Wedge at 0x1913b189e40>,\n",
       "  <matplotlib.patches.Wedge at 0x1913b188f70>,\n",
       "  <matplotlib.patches.Wedge at 0x1913b18ab30>],\n",
       " [Text(0.9050642315291113, 0.625186961481619, 'Bencana Alam'),\n",
       "  Text(-0.9055962721296661, -0.6244160407171264, 'Bencana Non Alam dan Penyakit'),\n",
       "  Text(1.099999601157081, -0.0009367252868737955, 'Bencana Sosial')],\n",
       " [Text(0.49367139901587886, 0.3410110698990649, '19.24187%'),\n",
       "  Text(-0.49396160297981784, -0.34059056766388707, '80.73102%'),\n",
       "  Text(0.5999997824493167, -0.0005109410655675247, '0.02710%')])"
      ]
     },
     "execution_count": 257,
     "metadata": {},
     "output_type": "execute_result"
    },
    {
     "data": {
      "image/png": "[encoded data removed]",
      "text/plain": [
       "<Figure size 640x480 with 1 Axes>"
      ]
     },
     "metadata": {},
     "output_type": "display_data"
    }
   ],
   "source": [
    "plt.pie(type_groupings.values, labels=type_groupings.index, colors=['tomato', 'goldenrod', 'black'], autopct='%1.5f%%')"
   ]
  },
  {
   "cell_type": "markdown",
   "metadata": {},
   "source": [
    "### Penyebab bencana dengan korban terbanyak berdasarkan masing2 tipenya"
   ]
  },
  {
   "cell_type": "markdown",
   "metadata": {},
   "source": [
    "Bencana Non Alam dan Penyakit"
   ]
  },
  {
   "cell_type": "code",
   "execution_count": 247,
   "metadata": {},
   "outputs": [
    {
     "data": {
      "text/plain": [
       "Cause\n",
       "AIDS                              7385\n",
       "Antraks                             35\n",
       "Avian Influenza (Flu Burung)       168\n",
       "Batuk Rejan                          5\n",
       "COVID-19                        156970\n",
       "                                 ...  \n",
       "Tetanus Neonatorium               1272\n",
       "Tuberkulosis                     39315\n",
       "Tuberkulosis paru                 3852\n",
       "Tuberkulosis paru lainnya         2024\n",
       "Wabah Penyakit (Epidemi)             0\n",
       "Name: Total Deaths, Length: 143, dtype: int64"
      ]
     },
     "execution_count": 247,
     "metadata": {},
     "output_type": "execute_result"
    }
   ],
   "source": [
    "nonalam_penyakit = data.query('Type==\"Bencana Non Alam dan Penyakit\"')\n",
    "nonalam_penyakit_group = nonalam_penyakit.groupby('Cause')['Total Deaths'].sum()\n",
    "nonalam_penyakit_group"
   ]
  },
  {
   "cell_type": "code",
   "execution_count": 252,
   "metadata": {},
   "outputs": [
    {
     "data": {
      "text/plain": [
       "([<matplotlib.patches.Wedge at 0x1913ad959c0>,\n",
       "  <matplotlib.patches.Wedge at 0x1913ac9add0>,\n",
       "  <matplotlib.patches.Wedge at 0x1913ad96590>,\n",
       "  <matplotlib.patches.Wedge at 0x1913ad96c20>,\n",
       "  <matplotlib.patches.Wedge at 0x1913ad972b0>],\n",
       " [Text(0.36435463740983154, 1.0379044745052168, 'COVID-19'),\n",
       "  Text(-1.0999076957649434, 0.014249940247349352, 'Penyakit Sistem Sirkulasi Darah'),\n",
       "  Text(-0.4809110591575644, -0.9893050859972115, 'Penyakit Infeksi & Parasit Tertentu'),\n",
       "  Text(0.5126367469885298, -0.9732438366807253, 'Kecelakaan Lalu Lintas'),\n",
       "  Text(1.0479466152991448, -0.33437687043673703, 'Tuberkulosis')],\n",
       " [Text(0.19873889313263535, 0.5661297133664819, '39.3%'),\n",
       "  Text(-0.5999496522354236, 0.007772694680372373, '21.1%'),\n",
       "  Text(-0.26231512317685324, -0.5396209559984789, '14.9%'),\n",
       "  Text(0.27962004381192535, -0.5308602745531228, '14.9%'),\n",
       "  Text(0.5716072447086243, -0.18238738387458384, '9.8%')])"
      ]
     },
     "execution_count": 252,
     "metadata": {},
     "output_type": "execute_result"
    },
    {
     "data": {
      "image/png": "[encoded data removed]",
      "text/plain": [
       "<Figure size 640x480 with 1 Axes>"
      ]
     },
     "metadata": {},
     "output_type": "display_data"
    }
   ],
   "source": [
    "top_5 = nonalam_penyakit_group.sort_values(ascending=False).head(5)\n",
    "plt.pie(top_5.values, labels=top_5.index, autopct='%1.1f%%')"
   ]
  },
  {
   "cell_type": "markdown",
   "metadata": {},
   "source": [
    "Bencana Alam"
   ]
  },
  {
   "cell_type": "code",
   "execution_count": 266,
   "metadata": {},
   "outputs": [
    {
     "data": {
      "text/plain": [
       "Cause\n",
       "Abrasi Air Laut                                                      0\n",
       "Angin Puting Beliung                                               100\n",
       "Angin Siklon Tropis                                                 37\n",
       "Angin Topan                                                          0\n",
       "Angin Topan / Angin Puting Beliung / Angin Puyuh                    19\n",
       "Angin kencang                                                        3\n",
       "Angin siklon tropis (angin kencang dan angin puting beliung)         4\n",
       "Banjir                                                             758\n",
       "Banjir Bandang                                                    1148\n",
       "Banjir Bandang dan Angin Siklon Tropis                               0\n",
       "Banjir Bandang dan Tanah Longsor                                     2\n",
       "Banjir Lahar Dingin                                                 12\n",
       "Banjir dan Tanah Longsor                                           664\n",
       "Banjir disertai Tanah Longsor                                       40\n",
       "Erupsi Gunung Api                                                    0\n",
       "Gelombang Besar                                                      3\n",
       "Gelombang Besar dan Angin Siklon Tropis                              1\n",
       "Gelombang Pasang                                                     5\n",
       "Gelombang Pasang/Badai                                              11\n",
       "Gempa & Tsunami                                                    509\n",
       "Gempa Bumi                                                       10484\n",
       "Gempa Bumi dan Tsunami                                            2615\n",
       "Kebakaran Hutan dan Lahan                                           22\n",
       "Kekeringan                                                           0\n",
       "Letusan Gunung Api                                                 132\n",
       "Letusan Gunung Berapi                                              382\n",
       "Letusan/Peningkatan Aktivitas Gunung Api                             2\n",
       "Longsor Sampah                                                       1\n",
       "Petir                                                                7\n",
       "Tanah Longsor                                                     1191\n",
       "Tersambar Petir                                                      7\n",
       "Tsunami                                                            433\n",
       "Tsunami Aceh (Hilang)                                            37527\n",
       "Tsunami Aceh (Meninggal)                                        129171\n",
       "Name: Total Deaths, dtype: int64"
      ]
     },
     "execution_count": 266,
     "metadata": {},
     "output_type": "execute_result"
    }
   ],
   "source": [
    "alam = data.query('Type==\"Bencana Alam\"')\n",
    "alam_group = alam.groupby('Cause')['Total Deaths'].sum()\n",
    "alam_group"
   ]
  },
  {
   "cell_type": "code",
   "execution_count": 265,
   "metadata": {},
   "outputs": [
    {
     "data": {
      "text/plain": [
       "([<matplotlib.patches.Wedge at 0x1913cd71870>,\n",
       "  <matplotlib.patches.Wedge at 0x1913cd71780>,\n",
       "  <matplotlib.patches.Wedge at 0x1913cd72560>,\n",
       "  <matplotlib.patches.Wedge at 0x1913cd72bf0>,\n",
       "  <matplotlib.patches.Wedge at 0x1913cd73280>],\n",
       " [Text(-0.6842530236853465, 0.8612768425874812, 'Tsunami Aceh (Meninggal)'),\n",
       "  Text(0.4518583326211554, -1.0029077959816792, 'Tsunami Aceh (Hilang)'),\n",
       "  Text(1.046178610928565, -0.33986808328464574, 'Gempa Bumi'),\n",
       "  Text(1.0958646565477885, -0.09529246837708473, 'Gempa Bumi dan Tsunami'),\n",
       "  Text(1.0997649389542574, -0.022739372175560296, 'Tanah Longsor')],\n",
       " [Text(-0.373228922010189, 0.46978736868408055, '71.4%'),\n",
       "  Text(0.2464681814297211, -0.5470406159900068, '20.7%'),\n",
       "  Text(0.570642878688308, -0.185382590882534, '5.8%'),\n",
       "  Text(0.5977443581169755, -0.05197771002386439, '1.4%'),\n",
       "  Text(0.5998717848841404, -0.012403293913941979, '0.7%')])"
      ]
     },
     "execution_count": 265,
     "metadata": {},
     "output_type": "execute_result"
    },
    {
     "data": {
      "image/png": "[encoded data removed]",
      "text/plain": [
       "<Figure size 640x480 with 1 Axes>"
      ]
     },
     "metadata": {},
     "output_type": "display_data"
    }
   ],
   "source": [
    "top_5 = alam_group.sort_values(ascending=False).head(5)\n",
    "plt.pie(top_5.values, labels=top_5.index, autopct='%1.1f%%')"
   ]
  },
  {
   "cell_type": "markdown",
   "metadata": {},
   "source": [
    "Bencana Sosial"
   ]
  },
  {
   "cell_type": "code",
   "execution_count": 267,
   "metadata": {},
   "outputs": [
    {
     "data": {
      "text/plain": [
       "Cause\n",
       "Aksi Teror dan Sabotase                 42\n",
       "Bencana kelaparan                        1\n",
       "Konflik                                 83\n",
       "Konflik Sosial                          66\n",
       "Konflik Sosial atau Kerusuhan Sosial    69\n",
       "Name: Total Deaths, dtype: int64"
      ]
     },
     "execution_count": 267,
     "metadata": {},
     "output_type": "execute_result"
    }
   ],
   "source": [
    "sosial = data.query('Type==\"Bencana Sosial\"')\n",
    "sosial_group = sosial.groupby('Cause')['Total Deaths'].sum()\n",
    "sosial_group"
   ]
  },
  {
   "cell_type": "code",
   "execution_count": 269,
   "metadata": {},
   "outputs": [
    {
     "data": {
      "text/plain": [
       "([<matplotlib.patches.Wedge at 0x1913cee9720>,\n",
       "  <matplotlib.patches.Wedge at 0x1913cee9630>,\n",
       "  <matplotlib.patches.Wedge at 0x1913ceea410>,\n",
       "  <matplotlib.patches.Wedge at 0x1913ceeaaa0>,\n",
       "  <matplotlib.patches.Wedge at 0x1913ceeb130>],\n",
       " [Text(0.5952111513722933, 0.925053341857684, 'Konflik'),\n",
       "  Text(-1.0465705330491364, 0.33865929686522195, 'Konflik Sosial atau Kerusuhan Sosial'),\n",
       "  Text(-0.2815024065164093, -1.06337030009563, 'Konflik Sosial'),\n",
       "  Text(0.9493005969190456, -0.5557232914762021, 'Aksi Teror dan Sabotase'),\n",
       "  Text(1.0999203151741122, -0.01324010072778082, 'Bencana kelaparan')],\n",
       " [Text(0.3246606280212509, 0.5045745501041912, '31.8%'),\n",
       "  Text(-0.570856654390438, 0.18472325283557559, '26.4%'),\n",
       "  Text(-0.15354676719076868, -0.5800201636885255, '25.3%'),\n",
       "  Text(0.5178003255922067, -0.30312179535065564, '16.1%'),\n",
       "  Text(0.5999565355495157, -0.007221873124244082, '0.4%')])"
      ]
     },
     "execution_count": 269,
     "metadata": {},
     "output_type": "execute_result"
    },
    {
     "data": {
      "image/png": "[encoded data removed]",
      "text/plain": [
       "<Figure size 640x480 with 1 Axes>"
      ]
     },
     "metadata": {},
     "output_type": "display_data"
    }
   ],
   "source": [
    "top_5 = sosial_group.sort_values(ascending=False)\n",
    "plt.pie(top_5.values, labels=top_5.index, autopct='%1.1f%%')"
   ]
  },
  {
   "cell_type": "markdown",
   "metadata": {},
   "source": [
    "### analisis trent 3 penyebab bencana dengan korban terbanyak"
   ]
  },
  {
   "cell_type": "markdown",
   "metadata": {},
   "source": [
    "Bencana Non Alam dan Penyakit yaitu Covid19.\n",
    "Bencana Alam yaitu Tsunami Aceh, tapi karena hanya terjadi pada tahun 2004 maka akan digunakan data Gempa Bumi.\n",
    "Bencana Sosial yaitu Konflik."
   ]
  },
  {
   "cell_type": "code",
   "execution_count": 294,
   "metadata": {},
   "outputs": [
    {
     "data": {
      "text/plain": [
       "Text(0, 0.5, 'Total Deaths')"
      ]
     },
     "execution_count": 294,
     "metadata": {},
     "output_type": "execute_result"
    },
    {
     "data": {
      "image/png": "[encoded data removed]",
      "text/plain": [
       "<Figure size 640x480 with 1 Axes>"
      ]
     },
     "metadata": {},
     "output_type": "display_data"
    }
   ],
   "source": [
    "covid_19 = data.query('Cause==\"COVID-19\"')\n",
    "plt.plot(covid_19['Year'], covid_19['Total Deaths'])\n",
    "plt.xticks([2020, 2021, 2022])\n",
    "plt.title('Jumlah Korban Jiwa Akibat COVID-19')\n",
    "plt.xlabel('Year')\n",
    "plt.ylabel('Total Deaths')"
   ]
  },
  {
   "cell_type": "code",
   "execution_count": 280,
   "metadata": {},
   "outputs": [
    {
     "data": {
      "text/plain": [
       "Text(0, 0.5, 'Total Deaths')"
      ]
     },
     "execution_count": 280,
     "metadata": {},
     "output_type": "execute_result"
    },
    {
     "data": {
      "image/png": "[encoded data removed]",
      "text/plain": [
       "<Figure size 640x480 with 1 Axes>"
      ]
     },
     "metadata": {},
     "output_type": "display_data"
    }
   ],
   "source": [
    "gempa_bumi = data.query('Cause==\"Gempa Bumi\"')\n",
    "plt.plot(gempa_bumi['Year'], gempa_bumi['Total Deaths'])\n",
    "plt.title('Jumlah Korban Jiwa Akibat Gempa Bumi')\n",
    "plt.xlabel('Year')\n",
    "plt.ylabel('Total Deaths')"
   ]
  },
  {
   "cell_type": "code",
   "execution_count": 285,
   "metadata": {},
   "outputs": [
    {
     "data": {
      "text/plain": [
       "Text(0, 0.5, 'Total Deaths')"
      ]
     },
     "execution_count": 285,
     "metadata": {},
     "output_type": "execute_result"
    },
    {
     "data": {
      "image/png": "[encoded data removed]",
      "text/plain": [
       "<Figure size 640x480 with 1 Axes>"
      ]
     },
     "metadata": {},
     "output_type": "display_data"
    }
   ],
   "source": [
    "konflik = data.query('Cause==\"Konflik\"')\n",
    "plt.plot(konflik['Year'], konflik['Total Deaths'])\n",
    "plt.xticks([2009, 2010, 2011])\n",
    "plt.title('Jumlah Korban Jiwa Akibat Konflik')\n",
    "plt.xlabel('Year')\n",
    "plt.ylabel('Total Deaths')"
   ]
  },
  {
   "cell_type": "markdown",
   "metadata": {},
   "source": [
    "### Bencana yang paling sering terjadi 3 tahun terakhir (2020-2022)"
   ]
  },
  {
   "cell_type": "code",
   "execution_count": 293,
   "metadata": {},
   "outputs": [
    {
     "data": {
      "text/html": [
       "<div>\n",
       "<style scoped>\n",
       "    .dataframe tbody tr th:only-of-type {\n",
       "        vertical-align: middle;\n",
       "    }\n",
       "\n",
       "    .dataframe tbody tr th {\n",
       "        vertical-align: top;\n",
       "    }\n",
       "\n",
       "    .dataframe thead th {\n",
       "        text-align: right;\n",
       "    }\n",
       "</style>\n",
       "<table border=\"1\" class=\"dataframe\">\n",
       "  <thead>\n",
       "    <tr style=\"text-align: right;\">\n",
       "      <th></th>\n",
       "      <th>Cause</th>\n",
       "      <th>Type</th>\n",
       "      <th>Year</th>\n",
       "      <th>Total Deaths</th>\n",
       "      <th>Source</th>\n",
       "    </tr>\n",
       "  </thead>\n",
       "  <tbody>\n",
       "    <tr>\n",
       "      <th>323</th>\n",
       "      <td>COVID-19</td>\n",
       "      <td>Bencana Non Alam dan Penyakit</td>\n",
       "      <td>2021</td>\n",
       "      <td>121956</td>\n",
       "      <td>COVID19.go.id</td>\n",
       "    </tr>\n",
       "    <tr>\n",
       "      <th>322</th>\n",
       "      <td>COVID-19</td>\n",
       "      <td>Bencana Non Alam dan Penyakit</td>\n",
       "      <td>2020</td>\n",
       "      <td>22138</td>\n",
       "      <td>Profil Kesehatan Indonesia Tahun 2020 dan COVI...</td>\n",
       "    </tr>\n",
       "    <tr>\n",
       "      <th>1054</th>\n",
       "      <td>Tuberkulosis</td>\n",
       "      <td>Bencana Non Alam dan Penyakit</td>\n",
       "      <td>2021</td>\n",
       "      <td>14148</td>\n",
       "      <td>Profil Kesehatan Indonesia Tahun 2021</td>\n",
       "    </tr>\n",
       "    <tr>\n",
       "      <th>1053</th>\n",
       "      <td>Tuberkulosis</td>\n",
       "      <td>Bencana Non Alam dan Penyakit</td>\n",
       "      <td>2020</td>\n",
       "      <td>13174</td>\n",
       "      <td>Profil Kesehatan Indonesia Tahun 2020</td>\n",
       "    </tr>\n",
       "    <tr>\n",
       "      <th>324</th>\n",
       "      <td>COVID-19</td>\n",
       "      <td>Bencana Non Alam dan Penyakit</td>\n",
       "      <td>2022</td>\n",
       "      <td>12876</td>\n",
       "      <td>COVID19.go.id</td>\n",
       "    </tr>\n",
       "    <tr>\n",
       "      <th>714</th>\n",
       "      <td>Kronis Filariasis</td>\n",
       "      <td>Bencana Non Alam dan Penyakit</td>\n",
       "      <td>2020</td>\n",
       "      <td>891</td>\n",
       "      <td>Profil Kesehatan Indonesia Tahun 2020</td>\n",
       "    </tr>\n",
       "    <tr>\n",
       "      <th>349</th>\n",
       "      <td>Demam Berdarah Dengue (DBD)</td>\n",
       "      <td>Bencana Non Alam dan Penyakit</td>\n",
       "      <td>2020</td>\n",
       "      <td>747</td>\n",
       "      <td>Profil Kesehatan Indonesia Tahun 2020</td>\n",
       "    </tr>\n",
       "    <tr>\n",
       "      <th>351</th>\n",
       "      <td>Demam Berdarah Dengue (DBD)</td>\n",
       "      <td>Bencana Non Alam dan Penyakit</td>\n",
       "      <td>2021</td>\n",
       "      <td>705</td>\n",
       "      <td>Profil Kesehatan Indonesia Tahun 2021</td>\n",
       "    </tr>\n",
       "    <tr>\n",
       "      <th>43</th>\n",
       "      <td>AIDS</td>\n",
       "      <td>Bencana Non Alam dan Penyakit</td>\n",
       "      <td>2021</td>\n",
       "      <td>688</td>\n",
       "      <td>Profil Kesehatan Indonesia Tahun 2021</td>\n",
       "    </tr>\n",
       "    <tr>\n",
       "      <th>42</th>\n",
       "      <td>AIDS</td>\n",
       "      <td>Bencana Non Alam dan Penyakit</td>\n",
       "      <td>2020</td>\n",
       "      <td>665</td>\n",
       "      <td>Profil Kesehatan Indonesia Tahun 2020</td>\n",
       "    </tr>\n",
       "    <tr>\n",
       "      <th>715</th>\n",
       "      <td>Kronis Filariasis</td>\n",
       "      <td>Bencana Non Alam dan Penyakit</td>\n",
       "      <td>2021</td>\n",
       "      <td>617</td>\n",
       "      <td>Profil Kesehatan Indonesia Tahun 2021</td>\n",
       "    </tr>\n",
       "    <tr>\n",
       "      <th>527</th>\n",
       "      <td>Kecelakaan Transportasi Laut-Udara</td>\n",
       "      <td>Bencana Non Alam dan Penyakit</td>\n",
       "      <td>2021</td>\n",
       "      <td>134</td>\n",
       "      <td>Profil Kesehatan Indonesia Tahun 2021</td>\n",
       "    </tr>\n",
       "    <tr>\n",
       "      <th>256</th>\n",
       "      <td>Banjir</td>\n",
       "      <td>Bencana Alam</td>\n",
       "      <td>2021</td>\n",
       "      <td>124</td>\n",
       "      <td>Profil Kesehatan Indonesia Tahun 2021</td>\n",
       "    </tr>\n",
       "    <tr>\n",
       "      <th>449</th>\n",
       "      <td>Gempa Bumi</td>\n",
       "      <td>Bencana Alam</td>\n",
       "      <td>2021</td>\n",
       "      <td>121</td>\n",
       "      <td>Profil Kesehatan Indonesia Tahun 2021</td>\n",
       "    </tr>\n",
       "    <tr>\n",
       "      <th>271</th>\n",
       "      <td>Banjir Bandang</td>\n",
       "      <td>Bencana Alam</td>\n",
       "      <td>2021</td>\n",
       "      <td>120</td>\n",
       "      <td>Profil Kesehatan Indonesia Tahun 2021</td>\n",
       "    </tr>\n",
       "    <tr>\n",
       "      <th>797</th>\n",
       "      <td>Leptospirosis</td>\n",
       "      <td>Bencana Non Alam dan Penyakit</td>\n",
       "      <td>2020</td>\n",
       "      <td>106</td>\n",
       "      <td>Profil Kesehatan Indonesia Tahun 2021</td>\n",
       "    </tr>\n",
       "    <tr>\n",
       "      <th>284</th>\n",
       "      <td>Banjir dan Tanah Longsor</td>\n",
       "      <td>Bencana Alam</td>\n",
       "      <td>2021</td>\n",
       "      <td>106</td>\n",
       "      <td>Profil Kesehatan Indonesia Tahun 2021</td>\n",
       "    </tr>\n",
       "    <tr>\n",
       "      <th>255</th>\n",
       "      <td>Banjir</td>\n",
       "      <td>Bencana Alam</td>\n",
       "      <td>2020</td>\n",
       "      <td>88</td>\n",
       "      <td>Profil Kesehatan Indonesia Tahun 2020</td>\n",
       "    </tr>\n",
       "    <tr>\n",
       "      <th>798</th>\n",
       "      <td>Leptospirosis</td>\n",
       "      <td>Bencana Non Alam dan Penyakit</td>\n",
       "      <td>2021</td>\n",
       "      <td>84</td>\n",
       "      <td>Profil Kesehatan Indonesia Tahun 2021</td>\n",
       "    </tr>\n",
       "    <tr>\n",
       "      <th>283</th>\n",
       "      <td>Banjir dan Tanah Longsor</td>\n",
       "      <td>Bencana Alam</td>\n",
       "      <td>2020</td>\n",
       "      <td>67</td>\n",
       "      <td>Profil Kesehatan Indonesia Tahun 2020</td>\n",
       "    </tr>\n",
       "  </tbody>\n",
       "</table>\n",
       "</div>"
      ],
      "text/plain": [
       "                                   Cause                           Type  Year  \\\n",
       "323                             COVID-19  Bencana Non Alam dan Penyakit  2021   \n",
       "322                             COVID-19  Bencana Non Alam dan Penyakit  2020   \n",
       "1054                        Tuberkulosis  Bencana Non Alam dan Penyakit  2021   \n",
       "1053                        Tuberkulosis  Bencana Non Alam dan Penyakit  2020   \n",
       "324                             COVID-19  Bencana Non Alam dan Penyakit  2022   \n",
       "714                    Kronis Filariasis  Bencana Non Alam dan Penyakit  2020   \n",
       "349          Demam Berdarah Dengue (DBD)  Bencana Non Alam dan Penyakit  2020   \n",
       "351          Demam Berdarah Dengue (DBD)  Bencana Non Alam dan Penyakit  2021   \n",
       "43                                  AIDS  Bencana Non Alam dan Penyakit  2021   \n",
       "42                                  AIDS  Bencana Non Alam dan Penyakit  2020   \n",
       "715                    Kronis Filariasis  Bencana Non Alam dan Penyakit  2021   \n",
       "527   Kecelakaan Transportasi Laut-Udara  Bencana Non Alam dan Penyakit  2021   \n",
       "256                               Banjir                   Bencana Alam  2021   \n",
       "449                           Gempa Bumi                   Bencana Alam  2021   \n",
       "271                       Banjir Bandang                   Bencana Alam  2021   \n",
       "797                        Leptospirosis  Bencana Non Alam dan Penyakit  2020   \n",
       "284             Banjir dan Tanah Longsor                   Bencana Alam  2021   \n",
       "255                               Banjir                   Bencana Alam  2020   \n",
       "798                        Leptospirosis  Bencana Non Alam dan Penyakit  2021   \n",
       "283             Banjir dan Tanah Longsor                   Bencana Alam  2020   \n",
       "\n",
       "      Total Deaths                                             Source  \n",
       "323         121956                                      COVID19.go.id  \n",
       "322          22138  Profil Kesehatan Indonesia Tahun 2020 dan COVI...  \n",
       "1054         14148              Profil Kesehatan Indonesia Tahun 2021  \n",
       "1053         13174              Profil Kesehatan Indonesia Tahun 2020  \n",
       "324          12876                                      COVID19.go.id  \n",
       "714            891              Profil Kesehatan Indonesia Tahun 2020  \n",
       "349            747              Profil Kesehatan Indonesia Tahun 2020  \n",
       "351            705              Profil Kesehatan Indonesia Tahun 2021  \n",
       "43             688              Profil Kesehatan Indonesia Tahun 2021  \n",
       "42             665              Profil Kesehatan Indonesia Tahun 2020  \n",
       "715            617              Profil Kesehatan Indonesia Tahun 2021  \n",
       "527            134              Profil Kesehatan Indonesia Tahun 2021  \n",
       "256            124              Profil Kesehatan Indonesia Tahun 2021  \n",
       "449            121              Profil Kesehatan Indonesia Tahun 2021  \n",
       "271            120              Profil Kesehatan Indonesia Tahun 2021  \n",
       "797            106              Profil Kesehatan Indonesia Tahun 2021  \n",
       "284            106              Profil Kesehatan Indonesia Tahun 2021  \n",
       "255             88              Profil Kesehatan Indonesia Tahun 2020  \n",
       "798             84              Profil Kesehatan Indonesia Tahun 2021  \n",
       "283             67              Profil Kesehatan Indonesia Tahun 2020  "
      ]
     },
     "execution_count": 293,
     "metadata": {},
     "output_type": "execute_result"
    }
   ],
   "source": [
    "bencana_22 = data.query('Year==(2020,2021,2022)')\n",
    "bencana_22.sort_values('Total Deaths' ,ascending=False).head(20)"
   ]
  },
  {
   "cell_type": "markdown",
   "metadata": {},
   "source": []
  }
 ],
 "metadata": {
  "kernelspec": {
   "display_name": "Python 3",
   "language": "python",
   "name": "python3"
  },
  "language_info": {
   "codemirror_mode": {
    "name": "ipython",
    "version": 3
   },
   "file_extension": ".py",
   "mimetype": "text/x-python",
   "name": "python",
   "nbconvert_exporter": "python",
   "pygments_lexer": "ipython3",
   "version": "3.10.11"
  },
  "orig_nbformat": 4
 },
 "nbformat": 4,
 "nbformat_minor": 2
}
